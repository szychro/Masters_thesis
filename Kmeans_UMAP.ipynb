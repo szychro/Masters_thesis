{
 "cells": [
  {
   "cell_type": "code",
   "execution_count": null,
   "id": "b437289c",
   "metadata": {},
   "outputs": [],
   "source": [
    "import numpy as np\n",
    "import matplotlib.pyplot as plt\n",
    "import pandas as pd\n",
    "from sklearn.cluster import KMeans\n",
    "import umap.umap_ as umap\n",
    "from sklearn import preprocessing\n",
    "from sklearn.preprocessing import MinMaxScaler\n",
    "\n",
    "path = 'C:/Studia/CMS/Magisterka/SAL_prototype/data/processed/asxl1_known.csv'\n",
    "file_name = 'C:/Studia/CMS/Magisterka/Saptarshi/asxl_kmean.csv'\n",
    "df = pd.read_csv(path, decimal=\",\")\n",
    "df.set_index('SUBJID', inplace=True)\n",
    "df.reindex(sorted(df.columns), axis=1)"
   ]
  },
  {
   "cell_type": "code",
   "execution_count": null,
   "id": "045fa342",
   "metadata": {},
   "outputs": [],
   "source": [
    "X = df.copy()\n",
    "kmeans = KMeans(4)\n",
    "kmeans.fit(X)"
   ]
  },
  {
   "cell_type": "code",
   "execution_count": null,
   "id": "41bca840",
   "metadata": {},
   "outputs": [],
   "source": [
    "clusters = X.copy()\n",
    "clusters['clusters_pred'] = kmeans.fit_predict(X)\n",
    "clusters.to_csv(file_name)"
   ]
  },
  {
   "cell_type": "code",
   "execution_count": null,
   "id": "a5a33b4e",
   "metadata": {},
   "outputs": [],
   "source": [
    "standard_embedding = umap.UMAP(random_state=42).fit_transform(X)\n",
    "plt.figure(figsize=(15, 10))\n",
    "plt.scatter(standard_embedding[:, 0], standard_embedding[:, 1], c=clusters['clusters_pred'], s=5, cmap='Dark2')\n",
    "plt.show()"
   ]
  }
 ],
 "metadata": {
  "kernelspec": {
   "display_name": "Python 3 (ipykernel)",
   "language": "python",
   "name": "python3"
  },
  "language_info": {
   "codemirror_mode": {
    "name": "ipython",
    "version": 3
   },
   "file_extension": ".py",
   "mimetype": "text/x-python",
   "name": "python",
   "nbconvert_exporter": "python",
   "pygments_lexer": "ipython3",
   "version": "3.9.12"
  }
 },
 "nbformat": 4,
 "nbformat_minor": 5
}
