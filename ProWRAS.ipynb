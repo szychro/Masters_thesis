{
 "cells": [
  {
   "cell_type": "code",
   "execution_count": null,
   "id": "d13369dd",
   "metadata": {},
   "outputs": [],
   "source": [
    "import Library.prowras\n",
    "import pandas as pd\n",
    "import numpy as np\n",
    "import csv\n",
    "\n",
    "path=\"C:/Studia/CMS/Magisterka/Saptarshi/meta_clustering_labels/AML_metaclustering_labels.csv\"\n",
    "data = np.genfromtxt(path, delimiter=\",\", skip_header=1)\n",
    "data = np.delete(data, 0, 1)\n",
    "\n",
    "labels_x = data[:, -1]\n",
    "features_x = data[:,0 :-1]\n",
    "\n",
    "labels_x = np.where(labels_x == 2, 0, labels_x)\n",
    "labels_x = np.where(labels_x == 3, 0, labels_x)\n",
    "\n",
    "n_feat=len(features_x[1])\n",
    "\n",
    "synth = Library.prowras.ProWRAS_gen(features_x, labels_x,\n",
    "                                    max_levels=5,\n",
    "                                    convex_nbd=5,\n",
    "                                    n_neighbors=5,\n",
    "                                    max_concov=5,\n",
    "                                    num_samples_to_generate=1000, #!!!!\n",
    "                                    theta=1.1,\n",
    "                                    shadow=7,\n",
    "                                    sigma=0.4,\n",
    "                                    n_jobs=1)\n",
    "\n",
    "heading = [f\"feature{n}\" for n in range(synth[0].shape[1])]\n",
    "heading.append(\"clusters_pred\")\n",
    "\n",
    "with open(\"C:/Studia/CMS/Magisterka/Saptarshi/meta_clustering_labels/Prowras_84features_all/SecondSmallestCluster/synth84_1000.csv\", \"w\") as f:\n",
    "  w = csv.writer(f)\n",
    "  w.writerow(heading)\n",
    "  for point, label in zip(synth[0], synth[1]):\n",
    "    point = list(point)\n",
    "    point.append(label)\n",
    "    w.writerow(point)"
   ]
  }
 ],
 "metadata": {
  "kernelspec": {
   "display_name": "Python 3 (ipykernel)",
   "language": "python",
   "name": "python3"
  },
  "language_info": {
   "codemirror_mode": {
    "name": "ipython",
    "version": 3
   },
   "file_extension": ".py",
   "mimetype": "text/x-python",
   "name": "python",
   "nbconvert_exporter": "python",
   "pygments_lexer": "ipython3",
   "version": "3.9.12"
  }
 },
 "nbformat": 4,
 "nbformat_minor": 5
}
