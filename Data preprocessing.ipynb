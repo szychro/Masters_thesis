{
 "cells": [
  {
   "cell_type": "code",
   "execution_count": null,
   "id": "8a273868",
   "metadata": {},
   "outputs": [],
   "source": [
    "import pandas as pd\n",
    "import numpy as np\n",
    "\n",
    "filename='C:/Studia/CMS/Magisterka/Saptarshi/Jan_Sal/KMean_AML_prepared_data_83features.csv'\n",
    "data=pd.read_csv(filename,decimal=\",\")\n",
    "data.set_index('Pat', inplace=True)"
   ]
  },
  {
   "cell_type": "code",
   "execution_count": null,
   "id": "c07d532f",
   "metadata": {},
   "outputs": [],
   "source": [
    "data.dtypes"
   ]
  },
  {
   "cell_type": "code",
   "execution_count": null,
   "id": "d4034628",
   "metadata": {},
   "outputs": [],
   "source": [
    "data.isna().sum()"
   ]
  },
  {
   "cell_type": "code",
   "execution_count": null,
   "id": "b1bb8c30",
   "metadata": {},
   "outputs": [],
   "source": [
    "columns_drop = ['Sex male','sex female', 'AMLSTAT', 'CGKT',  'ELN2017', 'ELN2022',\n",
    "               'ELN2022 fav', 'ELN2022 int', 'ELN2022 adv', 'ALSCTCR1', 'ALSCTSLV', 'ALSCTOTH',\n",
    "               'CR1', 'OSTM', 'OSTMU', 'OSSTAT', 'EFSTM', 'EFSTMU', 'EFSSTAT', 'RFSTM',\n",
    "               'RFSTMU', 'RFSSTAT']\n",
    "data = data.drop(columns_drop, axis=1)\n",
    "data.shape"
   ]
  },
  {
   "cell_type": "code",
   "execution_count": null,
   "id": "d3859561",
   "metadata": {},
   "outputs": [],
   "source": [
    "data['SEX'] = data['SEX'].fillna(-1)\n",
    "cleanup_nums = {'SEX': {\"f\": 1, \"m\": 0}}\n",
    "data.replace(cleanup_nums, inplace=True)\n",
    "data['SEX'].value_counts()"
   ]
  },
  {
   "cell_type": "code",
   "execution_count": null,
   "id": "f23f9993",
   "metadata": {},
   "outputs": [],
   "source": [
    "data['CEBPASTAT'] = data['CEBPASTAT'].fillna(-1)\n",
    "cleanup_nums = {'CEBPASTAT': {\"WT\": 1, \"double\": 2, \"TAD\": 3, \"bZIP\": 4}}\n",
    "data.replace(cleanup_nums, inplace=True)"
   ]
  },
  {
   "cell_type": "code",
   "execution_count": null,
   "id": "899eb45f",
   "metadata": {},
   "outputs": [],
   "source": [
    "columns_to_fill_minus1 = ['FEV','EXAML', 'CGNK', 'CGCX', 'ASXL1', 'ATRX', 'BCOR',\n",
    "                         'BCORL1', 'BRAF', 'CALR', 'CBL', 'CBLB', 'CDKN2A', 'CEBPA',\n",
    "                         'CEBPADM', 'CEBPA.bZIP', 'CEBPA.bZIP.inframe', 'CEBPA.TAD',\n",
    "                         'CSF3R', 'CUX1', 'DNMT3A', 'ETV6', 'EZH2', 'FBXW7', 'FLT3I',\n",
    "                         'FLT3T', 'GATA1', 'GATA2', 'GNAS', 'HRAS', 'IDH1', 'IDH2',\n",
    "                         'IKZF1', 'JAK2', 'KDM6A', 'KIT', 'KRAS', 'MPL', 'MYD88',\n",
    "                         'NOTCH1', 'NPM1', 'NRAS', 'PDGFRA', 'PTEN', 'PHF6','PTPN11',\n",
    "                         'RAD21', 'RUNX1', 'SETBP1', 'SF3B1', 'SMC1A','SMC3', 'SRSF2',\n",
    "                         'STAG2', 'TET2', 'TP53', 'U2AF1', 'WT1', 'ZRSR2', 'inv16_t16.16',\n",
    "                         't8.21', 't.6.9..p23.q34.', 'inv.3..q21.q26.2.', 'minus.5',\n",
    "                         'del.5q.', 't.9.22..q34.q11.', 'minus.7', 'minus.17',\n",
    "                         't.v.11..v.q23.', 'abn.17p.', 'inv.16.', 't.9.11..p21.23.q23.',\n",
    "                         't.8.21.' ]\n",
    "\n",
    "columns_to_fill_median =['AGE', 'WBC', 'HB', 'PLT', 'LDH', 'BMB', 'PBB', 'FLT3R' ]\n",
    "\n",
    "for columns in columns_to_fill_median:\n",
    "    x = data[columns].median()\n",
    "    data[columns].fillna(x, inplace = True)\n",
    "\n",
    "for columns in columns_to_fill_minus1:\n",
    "    data[columns] = data[columns].fillna(-1)"
   ]
  }
 ],
 "metadata": {
  "kernelspec": {
   "display_name": "Python 3 (ipykernel)",
   "language": "python",
   "name": "python3"
  },
  "language_info": {
   "codemirror_mode": {
    "name": "ipython",
    "version": 3
   },
   "file_extension": ".py",
   "mimetype": "text/x-python",
   "name": "python",
   "nbconvert_exporter": "python",
   "pygments_lexer": "ipython3",
   "version": "3.9.12"
  }
 },
 "nbformat": 4,
 "nbformat_minor": 5
}
